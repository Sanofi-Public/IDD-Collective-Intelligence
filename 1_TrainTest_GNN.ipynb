{
 "cells": [
  {
   "cell_type": "markdown",
   "id": "4cebfc87-664a-438f-a0fc-df39b04e3af0",
   "metadata": {
    "jp-MarkdownHeadingCollapsed": true,
    "tags": []
   },
   "source": [
    "# Modules & Functions"
   ]
  },
  {
   "cell_type": "code",
   "execution_count": 2,
   "id": "4c302e12-11ef-4fe7-bf76-45dbb6f98417",
   "metadata": {},
   "outputs": [],
   "source": [
    "from sklearn.model_selection import train_test_split\n",
    "import pandas as pd\n",
    "import chemprop\n",
    "\n",
    "def train_chemprop(ENDPOINT_S):\n",
    "    path_y_file_train = f\"./data/ADMET/{ENDPOINT_S}_TRAIN.csv\"\n",
    "    path_y_file_test = f\"./data/ADMET/{ENDPOINT_S}_TEST.csv\"\n",
    "    folder_model = f\"./model/{ENDPOINT_S}/\"\n",
    "    \n",
    "    os.makedirs(folder_model, exist_ok=True)  \n",
    "    \n",
    "    arguments_train = [\n",
    "    '--data_path', path_y_file_train,'--dataset_type', 'regression','--save_dir', folder_model,'--smiles_columns', 'SMILES','--metric', 'rmse','--target_columns', \"Resp_MEDIAN\",'--ffn_hidden_size', \"300\",'--ffn_num_layers', \"2\",\n",
    "        '--num_workers', '128','--dropout', str(\"0.2\"),'--batch_size', str('64'),'--split_sizes',\"0.9\", \"0.05\", \"0.05\",'--epochs', '100']\n",
    "    \n",
    "    args = chemprop.args.TrainArgs().parse_args(arguments_train)\n",
    "    chemprop.train.cross_validate(args=args, train_func=chemprop.train.run_training)\n",
    "\n",
    "    return(folder_model, path_y_file_test)\n",
    "\n",
    "\n",
    "def test_chemprop(ENDPOINT_S, folder_model, path_y_file_test):\n",
    "    path_from = folder_model + \"/fold_0/model_0/model.pt\"\n",
    "    \n",
    "    arguments_val = [\n",
    "        '--test_path', path_y_file_test,'--checkpoint_dir', folder_model + \"/fold_0/model_0/\" , '--smiles_columns', 'SMILES','--num_workers', '128','--preds_path',path_y_file_test.replace(\".csv\",\"_Prediction\")]\n",
    "    \n",
    "    args = chemprop.args.PredictArgs().parse_args(arguments_val)\n",
    "    pred = chemprop.train.make_predictions(args=args)\n",
    "    \n",
    "    y_folder_test = pd.read_csv(path_y_file_test)\n",
    "    path_val_output = f\"./data/ADMET/{ENDPOINT_S}__PREDICTION.csv\"\n",
    "    y_folder_test[\"Prediction\"]   = [i[0] for i in pred]\n",
    "    y_folder_test[\"Experimental\"] = y_folder_test[\"Resp_MEDIAN\"].tolist()\n",
    "    y_folder_test.to_csv(path_val_output, index = False)\n",
    "    \n",
    "    return(y_folder_test)"
   ]
  },
  {
   "cell_type": "markdown",
   "id": "fc52496d-e05d-4c3f-a857-d3396b78c032",
   "metadata": {},
   "source": [
    "# Load Data"
   ]
  },
  {
   "cell_type": "code",
   "execution_count": 4,
   "id": "a18016ea-1884-45ac-9cad-01d6083f57d4",
   "metadata": {},
   "outputs": [],
   "source": [
    "LogP = pd.read_csv(\"./data/ADMET/LogP.csv\")\n",
    "LogD = pd.read_csv(\"./data/ADMET/LogD.csv\")\n",
    "Papp = pd.read_csv(\"./data/ADMET/Papp.csv\")\n",
    "Sapp = pd.read_csv(\"./data/ADMET/Sapp.csv\")\n",
    "hERG = pd.read_csv(\"./data/ADMET/hERG.csv\")"
   ]
  },
  {
   "cell_type": "markdown",
   "id": "3b19fbc1-3a37-4f02-8a61-cc2a5d8d3b56",
   "metadata": {},
   "source": [
    "# Split Data"
   ]
  },
  {
   "cell_type": "code",
   "execution_count": 5,
   "id": "9689f127-184c-4a7e-9a02-f388534c4cf3",
   "metadata": {},
   "outputs": [],
   "source": [
    "# Split 80/20\n",
    "train_LogP, test_LogP = train_test_split(LogP, test_size=0.2, random_state=42)\n",
    "train_LogD, test_LogD = train_test_split(LogD, test_size=0.2, random_state=42)\n",
    "train_Papp, test_Papp = train_test_split(Papp, test_size=0.2, random_state=42)\n",
    "train_Sapp, test_Sapp = train_test_split(Sapp, test_size=0.2, random_state=42)\n",
    "train_hERG, test_hERG = train_test_split(hERG, test_size=0.2, random_state=42)"
   ]
  },
  {
   "cell_type": "markdown",
   "id": "d8447a72-7968-411f-b9fe-5355f6c2bcd6",
   "metadata": {},
   "source": [
    "# Write Data"
   ]
  },
  {
   "cell_type": "code",
   "execution_count": 6,
   "id": "a39c1681-9f55-440f-afaa-5e4d8f83cc2f",
   "metadata": {},
   "outputs": [],
   "source": [
    "# Write each to .csv\n",
    "train_LogP.to_csv(\"./data/ADMET/LogP_TRAIN.csv\", index = False)\n",
    "train_LogD.to_csv(\"./data/ADMET/LogD_TRAIN.csv\", index = False)\n",
    "train_Papp.to_csv(\"./data/ADMET/Papp_TRAIN.csv\", index = False)\n",
    "train_Sapp.to_csv(\"./data/ADMET/Sapp_TRAIN.csv\", index = False)\n",
    "train_hERG.to_csv(\"./data/ADMET/hERG_TRAIN.csv\", index = False)\n",
    "test_LogP.to_csv(\"./data/ADMET/LogP_TEST.csv\", index = False)\n",
    "test_LogD.to_csv(\"./data/ADMET/LogD_TEST.csv\", index = False)\n",
    "test_Papp.to_csv(\"./data/ADMET/Papp_TEST.csv\", index = False)\n",
    "test_Sapp.to_csv(\"./data/ADMET/Sapp_TEST.csv\", index = False)\n",
    "test_hERG.to_csv(\"./data/ADMET/hERG_TEST.csv\", index = False)"
   ]
  },
  {
   "cell_type": "markdown",
   "id": "3cf7fd13-27ce-4f55-b7f6-ac6c5b569dc4",
   "metadata": {},
   "source": [
    "# Train Model"
   ]
  },
  {
   "cell_type": "markdown",
   "id": "e03c3d99-3278-4ebc-95f5-66a7f8cb097f",
   "metadata": {},
   "source": [
    "- LogP"
   ]
  },
  {
   "cell_type": "code",
   "execution_count": null,
   "id": "35dd8d0f-50d2-43d7-b118-0415af8573f1",
   "metadata": {
    "scrolled": true,
    "tags": []
   },
   "outputs": [],
   "source": [
    "ENDPOINT_S = \"LogP\"\n",
    "\n",
    "folder_model, path_y_file_test = train_chemprop(ENDPOINT_S)\n",
    "y_folder_test = test_chemprop(ENDPOINT_S, folder_model, path_y_file_test)"
   ]
  },
  {
   "cell_type": "markdown",
   "id": "c5b41321-38ba-4111-8398-1bcb57bd7f84",
   "metadata": {},
   "source": [
    "- LogD"
   ]
  },
  {
   "cell_type": "code",
   "execution_count": null,
   "id": "33942da9-a7b6-4f37-a0eb-676f005f5f23",
   "metadata": {
    "scrolled": true,
    "tags": []
   },
   "outputs": [],
   "source": [
    "ENDPOINT_S = \"LogD\"\n",
    "\n",
    "folder_model, path_y_file_test = train_chemprop(ENDPOINT_S)\n",
    "y_folder_test = test_chemprop(ENDPOINT_S, folder_model, path_y_file_test)"
   ]
  },
  {
   "cell_type": "markdown",
   "id": "05e23c1b-86a6-482b-baa8-c642941e18b3",
   "metadata": {},
   "source": [
    "- Papp"
   ]
  },
  {
   "cell_type": "code",
   "execution_count": null,
   "id": "d2bfcbdf-ac15-4c20-a426-86d1633f6dd2",
   "metadata": {
    "scrolled": true,
    "tags": []
   },
   "outputs": [],
   "source": [
    "ENDPOINT_S = \"Papp\"\n",
    "\n",
    "folder_model, path_y_file_test = train_chemprop(ENDPOINT_S)\n",
    "y_folder_test = test_chemprop(ENDPOINT_S, folder_model, path_y_file_test)"
   ]
  },
  {
   "cell_type": "markdown",
   "id": "f223c47f-663e-408c-b71f-20ca0bcfe5e8",
   "metadata": {},
   "source": [
    "- Sapp"
   ]
  },
  {
   "cell_type": "code",
   "execution_count": null,
   "id": "6ed94b00-b0a8-416a-8750-d053438258fe",
   "metadata": {
    "scrolled": true,
    "tags": []
   },
   "outputs": [],
   "source": [
    "ENDPOINT_S = \"Sapp\"\n",
    "\n",
    "folder_model, path_y_file_test = train_chemprop(ENDPOINT_S)\n",
    "y_folder_test = test_chemprop(ENDPOINT_S, folder_model, path_y_file_test)"
   ]
  },
  {
   "cell_type": "markdown",
   "id": "501006c1-690d-4ca8-8e6f-98315262739c",
   "metadata": {},
   "source": [
    "- hERG"
   ]
  },
  {
   "cell_type": "code",
   "execution_count": null,
   "id": "3b3c7e08-4273-4a67-b18f-3ea2bf6a6ffd",
   "metadata": {
    "scrolled": true,
    "tags": []
   },
   "outputs": [],
   "source": [
    "ENDPOINT_S = \"hERG\"\n",
    "\n",
    "folder_model, path_y_file_test = train_chemprop(ENDPOINT_S)\n",
    "y_folder_test = test_chemprop(ENDPOINT_S, folder_model, path_y_file_test)"
   ]
  }
 ],
 "metadata": {
  "kernelspec": {
   "display_name": "chemprop",
   "language": "python",
   "name": "chemprop"
  },
  "language_info": {
   "codemirror_mode": {
    "name": "ipython",
    "version": 3
   },
   "file_extension": ".py",
   "mimetype": "text/x-python",
   "name": "python",
   "nbconvert_exporter": "python",
   "pygments_lexer": "ipython3",
   "version": "3.8.15"
  }
 },
 "nbformat": 4,
 "nbformat_minor": 5
}
